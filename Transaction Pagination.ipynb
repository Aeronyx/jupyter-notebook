{
 "cells": [
  {
   "cell_type": "code",
   "execution_count": null,
   "metadata": {},
   "outputs": [],
   "source": [
    "AMBERDATA_API_KEY = \"YOUR_API_KEY_HERE\""
   ]
  },
  {
   "cell_type": "markdown",
   "metadata": {},
   "source": [
    "# Pagination by size\n",
    "---"
   ]
  },
  {
   "cell_type": "code",
   "execution_count": null,
   "metadata": {},
   "outputs": [],
   "source": [
    "PAGE_OFFSET = 2\n",
    "PAGE_SIZE = 5"
   ]
  },
  {
   "cell_type": "code",
   "execution_count": null,
   "metadata": {
    "scrolled": true
   },
   "outputs": [],
   "source": [
    "import requests\n",
    "import os\n",
    "from pprint import pprint\n",
    "\n",
    "url = \"https://web3api.io/api/v2/addresses/0x06012c8cf97bead5deae237070f9587f8e7a266d/transactions\"\n",
    "\n",
    "querystring = {\n",
    "    \"page\": PAGE_OFFSET,\n",
    "    \"size\": PAGE_SIZE,\n",
    "}\n",
    "\n",
    "headers = {\n",
    "    \"x-amberdata-blockchain-id\": \"ethereum-mainnet\",\n",
    "    \"x-api-key\": AMBERDATA_API_KEY,\n",
    "}\n",
    "\n",
    "response = requests.request(\"GET\", url, headers=headers, params=querystring)\n",
    "\n",
    "pprint(response.json())"
   ]
  },
  {
   "cell_type": "markdown",
   "metadata": {},
   "source": [
    "# Filter by date range\n",
    "---"
   ]
  },
  {
   "cell_type": "code",
   "execution_count": null,
   "metadata": {},
   "outputs": [],
   "source": [
    "PAGE_OFFSET = 1\n",
    "PAGE_SIZE = 5\n",
    "START_DATE = \"12-15-19\"\n",
    "END_DATE = \"12-18-19\""
   ]
  },
  {
   "cell_type": "code",
   "execution_count": null,
   "metadata": {},
   "outputs": [],
   "source": [
    "import requests\n",
    "import os\n",
    "from pprint import pprint\n",
    "\n",
    "url = \"https://web3api.io/api/v2/addresses/0x06012c8cf97bead5deae237070f9587f8e7a266d/transactions\"\n",
    "\n",
    "querystring = {\n",
    "    \"page\": PAGE_OFFSET,\n",
    "    \"size\": PAGE_SIZE,\n",
    "    \"startDate\": START_DATE,\n",
    "    \"endDate\": END_DATE\n",
    "}\n",
    "\n",
    "headers = {\n",
    "    \"x-amberdata-blockchain-id\": \"ethereum-mainnet\",\n",
    "    \"x-api-key\": AMBERDATA_API_KEY,\n",
    "}\n",
    "\n",
    "response = requests.request(\"GET\", url, headers=headers, params=querystring)\n",
    "\n",
    "pprint(response.json())"
   ]
  }
 ],
 "metadata": {
  "kernelspec": {
   "display_name": "Python 3",
   "language": "python",
   "name": "python3"
  },
  "language_info": {
   "codemirror_mode": {
    "name": "ipython",
    "version": 3
   },
   "file_extension": ".py",
   "mimetype": "text/x-python",
   "name": "python",
   "nbconvert_exporter": "python",
   "pygments_lexer": "ipython3",
   "version": "3.7.0"
  }
 },
 "nbformat": 4,
 "nbformat_minor": 2
}
